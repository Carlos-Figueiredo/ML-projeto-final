{
 "cells": [
  {
   "cell_type": "code",
   "execution_count": 1,
   "metadata": {},
   "outputs": [
    {
     "name": "stdout",
     "output_type": "stream",
     "text": [
      "[[             nan              nan              nan ...,              nan\n",
      "               nan              nan]\n",
      " [  1.00000000e+00   4.00000000e+00   2.00000000e+00 ...,              nan\n",
      "    6.00000000e+00   9.14000000e+02]\n",
      " [  4.00000000e+00   3.00000000e+00   4.00000000e+00 ...,              nan\n",
      "    1.00000000e+00   8.91000000e+02]\n",
      " ..., \n",
      " [  2.00000000e+00   4.00000000e+00   2.00000000e+00 ...,              nan\n",
      "    6.00000000e+00   9.32000000e+02]\n",
      " [  4.00000000e+00   4.00000000e+00   4.00000000e+00 ...,              nan\n",
      "    2.00000000e+00   1.21200000e+03]\n",
      " [  4.00000000e+00   5.00000000e+00   4.00000000e+00 ...,              nan\n",
      "    2.00000000e+00   9.50000000e+02]]\n"
     ]
    }
   ],
   "source": [
    "import numpy\n",
    "import math\n",
    "import sys\n",
    "from numpy import genfromtxt\n",
    "\n",
    "# Abrindo o CSV\n",
    "data = genfromtxt('16PF.noUp/data.csv', delimiter=',')\n",
    "\n",
    "# Usando o resultado do teste 16PF\n",
    "#data = genfromtxt('16PF.noUp/test_results.csv', delimiter=',')\n",
    "\n",
    "print(data)"
   ]
  },
  {
   "cell_type": "code",
   "execution_count": 2,
   "metadata": {},
   "outputs": [
    {
     "name": "stdout",
     "output_type": "stream",
     "text": [
      "(49159, 163)\n",
      "[[ 1.  4.  2. ...,  2.  5.  2.]\n",
      " [ 4.  3.  4. ...,  2.  2.  2.]\n",
      " [ 3.  4.  4. ...,  3.  3.  3.]\n",
      " ..., \n",
      " [ 2.  4.  2. ...,  4.  5.  4.]\n",
      " [ 4.  4.  4. ...,  4.  5.  4.]\n",
      " [ 4.  5.  4. ...,  4.  4.  5.]]\n"
     ]
    }
   ],
   "source": [
    "# Pegando apenas as entradas\n",
    "data = data[1: , 0:163]\n",
    "\n",
    "(nData, nFeatures) = data.shape\n",
    "\n",
    "print(data.shape)\n",
    "print(data)"
   ]
  },
  {
   "cell_type": "code",
   "execution_count": 3,
   "metadata": {},
   "outputs": [
    {
     "name": "stdout",
     "output_type": "stream",
     "text": [
      "(49159, 163)\n",
      "[[ 0.25  1.    0.5  ...,  0.5   1.25  0.5 ]\n",
      " [ 1.    0.75  1.   ...,  0.5   0.5   0.5 ]\n",
      " [ 0.75  1.    1.   ...,  0.75  0.75  0.75]\n",
      " ..., \n",
      " [ 0.5   1.    0.5  ...,  1.    1.25  1.  ]\n",
      " [ 1.    1.    1.   ...,  1.    1.25  1.  ]\n",
      " [ 1.    1.25  1.   ...,  1.    1.    1.25]]\n"
     ]
    }
   ],
   "source": [
    "# Normalizando os dados\n",
    "data = (data)/4\n",
    "\n",
    "print(data.shape)\n",
    "print(data)"
   ]
  },
  {
   "cell_type": "code",
   "execution_count": 4,
   "metadata": {},
   "outputs": [
    {
     "name": "stdout",
     "output_type": "stream",
     "text": [
      "1 2 3 4 5 6 7 8 9 -----> Done\n"
     ]
    }
   ],
   "source": [
    "# Clusterizando os dados\n",
    "from sklearn.cluster import KMeans\n",
    "\n",
    "# Lista dos custos vs cluster para plotar depois\n",
    "XX = [];\n",
    "YY = [];\n",
    "\n",
    "# Lista de cada clusterizacao (pra nao ter que re-rodar o algoritmo de novo)\n",
    "kmeans = [];\n",
    "\n",
    "maxClusters = 10\n",
    "\n",
    "for cc in range(1, maxClusters):\n",
    "\n",
    "    km = KMeans(\n",
    "                n_clusters=cc,\n",
    "                n_jobs=-1\n",
    "            ).fit(data)\n",
    "\n",
    "    kmeans.append(km)\n",
    "    \n",
    "    # Calcula o Custo\n",
    "\n",
    "    core = km.cluster_centers_\n",
    "    label = km.labels_\n",
    "\n",
    "    J = 0\n",
    "    for i in range(0, nData):\n",
    "        diferenca = data[i] - core[label[i]]\n",
    "        erro = math.sqrt(numpy.dot(diferenca, diferenca))\n",
    "        J = J + erro\n",
    "\n",
    "    YY.append(J)\n",
    "    XX.append(cc)\n",
    "    sys.stdout.write(str(cc) + ' ')\n",
    "    \n",
    "print('-----> Done')"
   ]
  },
  {
   "cell_type": "code",
   "execution_count": 5,
   "metadata": {},
   "outputs": [
    {
     "name": "stdout",
     "output_type": "stream",
     "text": [
      "[1, 2, 3, 4, 5, 6, 7, 8, 9]\n",
      "[174779.60942986017, 167657.0459053498, 164234.1070433468, 161711.36771773704, 159898.40224119351, 158485.53627389556, 157485.65062801234, 156611.1954170081, 155921.66775656253]\n"
     ]
    },
    {
     "data": {
      "image/png": "[encoded data removed]",
      "text/plain": [
       "<matplotlib.figure.Figure at 0x112ab9ac8>"
      ]
     },
     "metadata": {},
     "output_type": "display_data"
    }
   ],
   "source": [
    "# Plotando os resultados\n",
    "import matplotlib.pyplot as plt\n",
    "\n",
    "print(XX)\n",
    "print(YY)\n",
    "\n",
    "plt.plot(XX, YY, '-o')\n",
    "plt.show()"
   ]
  },
  {
   "cell_type": "code",
   "execution_count": 6,
   "metadata": {},
   "outputs": [
    {
     "name": "stdout",
     "output_type": "stream",
     "text": [
      "1 2 3 4 5 6 7 8 [0.080054345292270998, 0.080780116122666973, 0.055108325109135568, 0.045365921104566533, 0.050708077441185384, 0.035943898246352218, 0.033963819021444373, 0.031374261192521756]\n"
     ]
    },
    {
     "data": {
      "image/png": "[encoded data removed]",
      "text/plain": [
       "<matplotlib.figure.Figure at 0x11834c6a0>"
      ]
     },
     "metadata": {},
     "output_type": "display_data"
    }
   ],
   "source": [
    "# Plotando a Silhueta\n",
    "from sklearn import metrics\n",
    "\n",
    "silhouette = []\n",
    "\n",
    "for cc in range(1, maxClusters-1):\n",
    "    km = kmeans[cc]\n",
    "    label = km.labels_\n",
    "    \n",
    "    sys.stdout.write(str(cc) + ' ')\n",
    "        \n",
    "    sh = metrics.silhouette_score(data, label, sample_size=600)\n",
    "    silhouette.append(sh)    \n",
    "    \n",
    "print(silhouette)\n",
    "\n",
    "plt.plot(XX[1:], silhouette, '-o')\n",
    "plt.show()"
   ]
  },
  {
   "cell_type": "code",
   "execution_count": 7,
   "metadata": {},
   "outputs": [
    {
     "name": "stdout",
     "output_type": "stream",
     "text": [
      "Melhor resultado:  3 clusteres with  0.0807801161227\n"
     ]
    }
   ],
   "source": [
    "# Ve qual o melhor valor da silhueta\n",
    "best = silhouette.index(max(silhouette)) + 2\n",
    "print('Melhor resultado: ', best, 'clusteres with ', silhouette[best-2])"
   ]
  },
  {
   "cell_type": "code",
   "execution_count": 9,
   "metadata": {},
   "outputs": [],
   "source": [
    "# Separa os grupos da melhor silhueta\n",
    "import os\n",
    "\n",
    "# Abre o dataset como strings\n",
    "with open('16PF.noUp/data.csv') as f:\n",
    "    lines = f.readlines()\n",
    "    \n",
    "    # Cria uma pasta\n",
    "    if not os.path.exists('dataset/cl'+str(best)):\n",
    "        os.mkdir('dataset/cl'+str(best))\n",
    "    \n",
    "    # Abre os arquivos de cada cluster, e escreve o header do CSV\n",
    "    out = []\n",
    "    for i in range(0, best):\n",
    "        oo = open('dataset/cl'+str(best)+'/cluster'+str(i)+'.csv', 'w')\n",
    "        oo.write(lines[0])\n",
    "        out.append(oo)\n",
    "    \n",
    "    # Para cada dado, escreve no arquivo certo do cluster\n",
    "    label = kmeans[best-1].labels_\n",
    "    for i in range(1, len(lines)):\n",
    "        out[label[i-1]].write(lines[i])\n",
    "    \n",
    "    # Fecha os arquivos de cada cluster\n",
    "    for i in range(0, best):\n",
    "        oo = out[i]\n",
    "        oo.close()\n",
    "    "
   ]
  }
 ],
 "metadata": {
  "kernelspec": {
   "display_name": "Python 3",
   "language": "python",
   "name": "python3"
  },
  "language_info": {
   "codemirror_mode": {
    "name": "ipython",
    "version": 3
   },
   "file_extension": ".py",
   "mimetype": "text/x-python",
   "name": "python",
   "nbconvert_exporter": "python",
   "pygments_lexer": "ipython3",
   "version": "3.6.2"
  }
 },
 "nbformat": 4,
 "nbformat_minor": 2
}
