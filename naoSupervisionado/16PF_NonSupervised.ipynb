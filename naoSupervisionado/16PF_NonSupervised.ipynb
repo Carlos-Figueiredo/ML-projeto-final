{
 "cells": [
  {
   "cell_type": "markdown",
   "metadata": {},
   "source": [
    "# Non supervised 16 PF"
   ]
  },
  {
   "cell_type": "code",
   "execution_count": 23,
   "metadata": {
    "collapsed": true
   },
   "outputs": [],
   "source": [
    "import matplotlib.pyplot as plt\n",
    "import sklearn\n",
    "import numpy as np\n",
    "from sklearn.cluster import KMeans\n",
    "from sklearn import metrics\n",
    "from sklearn.decomposition import PCA\n",
    "import math"
   ]
  },
  {
   "cell_type": "code",
   "execution_count": 2,
   "metadata": {
    "collapsed": true
   },
   "outputs": [],
   "source": [
    "data = np.genfromtxt('data_semINTMAX.csv', delimiter = ',')"
   ]
  },
  {
   "cell_type": "code",
   "execution_count": 3,
   "metadata": {
    "collapsed": true
   },
   "outputs": [],
   "source": [
    "features = data[1: ,0:163]"
   ]
  },
  {
   "cell_type": "code",
   "execution_count": 4,
   "metadata": {},
   "outputs": [
    {
     "data": {
      "text/plain": [
       "(48832, 163)"
      ]
     },
     "execution_count": 4,
     "metadata": {},
     "output_type": "execute_result"
    }
   ],
   "source": [
    "features.shape"
   ]
  },
  {
   "cell_type": "code",
   "execution_count": 7,
   "metadata": {
    "scrolled": true
   },
   "outputs": [
    {
     "data": {
      "text/plain": [
       "array([[ 0.,  0.,  0., ...,  0.,  0.,  0.],\n",
       "       [ 2.,  2.,  2., ...,  2.,  2.,  2.],\n",
       "       [ 4.,  4.,  4., ...,  4.,  4.,  3.],\n",
       "       ..., \n",
       "       [ 3.,  3.,  3., ...,  3.,  3.,  3.],\n",
       "       [ 4.,  4.,  3., ...,  3.,  0.,  2.],\n",
       "       [ 3.,  2.,  3., ...,  2.,  1.,  1.]])"
      ]
     },
     "execution_count": 7,
     "metadata": {},
     "output_type": "execute_result"
    }
   ],
   "source": [
    "features"
   ]
  },
  {
   "cell_type": "code",
   "execution_count": 8,
   "metadata": {
    "collapsed": true
   },
   "outputs": [],
   "source": [
    "np.random.shuffle(features)"
   ]
  },
  {
   "cell_type": "code",
   "execution_count": 10,
   "metadata": {
    "collapsed": true
   },
   "outputs": [],
   "source": [
    "features /= 5"
   ]
  },
  {
   "cell_type": "code",
   "execution_count": 23,
   "metadata": {
    "collapsed": true
   },
   "outputs": [],
   "source": [
    "n_components = 163\n",
    "sample_size = 16386"
   ]
  },
  {
   "cell_type": "code",
   "execution_count": 13,
   "metadata": {
    "collapsed": true
   },
   "outputs": [],
   "source": [
    "(n_samples,n_features) = features.shape"
   ]
  },
  {
   "cell_type": "markdown",
   "metadata": {},
   "source": [
    "# K-Means"
   ]
  },
  {
   "cell_type": "code",
   "execution_count": 14,
   "metadata": {
    "collapsed": true
   },
   "outputs": [],
   "source": [
    "ith_k_means = []\n",
    "for i in range(1,17):\n",
    "    ith_k_means.append(KMeans(n_clusters=i,verbose=0,n_jobs=-1))"
   ]
  },
  {
   "cell_type": "code",
   "execution_count": 15,
   "metadata": {
    "collapsed": true
   },
   "outputs": [],
   "source": [
    "labels_list = []"
   ]
  },
  {
   "cell_type": "code",
   "execution_count": 16,
   "metadata": {
    "scrolled": true
   },
   "outputs": [
    {
     "name": "stdout",
     "output_type": "stream",
     "text": [
      "end  0\n",
      "end  1\n",
      "end  2\n",
      "end  3\n",
      "end  4\n",
      "end  5\n",
      "end  6\n",
      "end  7\n",
      "end  8\n",
      "end  9\n",
      "end  10\n",
      "end  11\n",
      "end  12\n",
      "end  13\n",
      "end  14\n",
      "end  15\n"
     ]
    }
   ],
   "source": [
    "for i in range(16):\n",
    "    labels_list.append(ith_k_means[i].fit_predict(features))\n",
    "    print('end ',i)"
   ]
  },
  {
   "cell_type": "code",
   "execution_count": 17,
   "metadata": {
    "collapsed": true
   },
   "outputs": [],
   "source": [
    "inertia_list = [ith_k_means[i].inertia_ for i in range(16)]"
   ]
  },
  {
   "cell_type": "code",
   "execution_count": 18,
   "metadata": {},
   "outputs": [
    {
     "data": {
      "image/png": "[encoded data removed]",
      "text/plain": [
       "<matplotlib.figure.Figure at 0x1d10ce67cc0>"
      ]
     },
     "metadata": {},
     "output_type": "display_data"
    }
   ],
   "source": [
    "plt.plot(range(1,17), inertia_list, 'ro')\n",
    "#plt.axis([0, 10, 16000, 18000])\n",
    "plt.show()"
   ]
  },
  {
   "cell_type": "code",
   "execution_count": 19,
   "metadata": {
    "collapsed": true
   },
   "outputs": [],
   "source": [
    "silhouette_list = []"
   ]
  },
  {
   "cell_type": "code",
   "execution_count": 24,
   "metadata": {
    "collapsed": true
   },
   "outputs": [],
   "source": [
    "label_sample = np.empty((sample_size))"
   ]
  },
  {
   "cell_type": "code",
   "execution_count": 25,
   "metadata": {
    "collapsed": true
   },
   "outputs": [],
   "source": [
    "feat_sample = features[0:sample_size,:]"
   ]
  },
  {
   "cell_type": "code",
   "execution_count": 26,
   "metadata": {},
   "outputs": [
    {
     "data": {
      "text/plain": [
       "(16386, 163)"
      ]
     },
     "execution_count": 26,
     "metadata": {},
     "output_type": "execute_result"
    }
   ],
   "source": [
    "feat_sample.shape"
   ]
  },
  {
   "cell_type": "code",
   "execution_count": 27,
   "metadata": {},
   "outputs": [
    {
     "name": "stdout",
     "output_type": "stream",
     "text": [
      "end  1\n",
      "end  2\n",
      "end  3\n",
      "end  4\n"
     ]
    }
   ],
   "source": [
    "for i in range(1,5):\n",
    "    label_sample = labels_list[i][0:sample_size]\n",
    "    silhouette_list.append(metrics.silhouette_score(feat_sample,label_sample,metric='euclidean'))\n",
    "    print('end ',i)"
   ]
  },
  {
   "cell_type": "code",
   "execution_count": 28,
   "metadata": {
    "scrolled": true
   },
   "outputs": [
    {
     "data": {
      "text/plain": [
       "[0.07639898040979877,\n",
       " 0.085863593477168612,\n",
       " 0.052062611236410122,\n",
       " 0.047372652344037855]"
      ]
     },
     "execution_count": 28,
     "metadata": {},
     "output_type": "execute_result"
    }
   ],
   "source": [
    "silhouette_list"
   ]
  },
  {
   "cell_type": "markdown",
   "metadata": {},
   "source": [
    "# Using new dataset"
   ]
  },
  {
   "cell_type": "code",
   "execution_count": 5,
   "metadata": {
    "collapsed": true
   },
   "outputs": [],
   "source": [
    "clean = np.genfromtxt('data_limpo_semINTMAX.csv',delimiter=',')"
   ]
  },
  {
   "cell_type": "code",
   "execution_count": 6,
   "metadata": {
    "collapsed": true
   },
   "outputs": [],
   "source": [
    "features = clean[1: ,0:163]"
   ]
  },
  {
   "cell_type": "code",
   "execution_count": 7,
   "metadata": {
    "collapsed": true
   },
   "outputs": [],
   "source": [
    "np.random.shuffle(features)\n",
    "features /= 5"
   ]
  },
  {
   "cell_type": "code",
   "execution_count": 63,
   "metadata": {
    "collapsed": true
   },
   "outputs": [],
   "source": [
    "ith_k_means = []\n",
    "for i in range(1,17):\n",
    "    ith_k_means.append(KMeans(n_clusters=i,verbose=0,n_jobs=-1))"
   ]
  },
  {
   "cell_type": "code",
   "execution_count": 64,
   "metadata": {
    "collapsed": true
   },
   "outputs": [],
   "source": [
    "labels_list = []"
   ]
  },
  {
   "cell_type": "code",
   "execution_count": 65,
   "metadata": {},
   "outputs": [
    {
     "name": "stdout",
     "output_type": "stream",
     "text": [
      "end  0\n",
      "end  1\n",
      "end  2\n",
      "end  3\n",
      "end  4\n",
      "end  5\n",
      "end  6\n",
      "end  7\n",
      "end  8\n",
      "end  9\n",
      "end  10\n",
      "end  11\n",
      "end  12\n",
      "end  13\n",
      "end  14\n",
      "end  15\n"
     ]
    }
   ],
   "source": [
    "for i in range(16):\n",
    "    labels_list.append(ith_k_means[i].fit_predict(features))\n",
    "    print('end ',i)"
   ]
  },
  {
   "cell_type": "code",
   "execution_count": 66,
   "metadata": {
    "collapsed": true
   },
   "outputs": [],
   "source": [
    "inertia_list = [ith_k_means[i].inertia_ for i in range(16)]"
   ]
  },
  {
   "cell_type": "code",
   "execution_count": 67,
   "metadata": {},
   "outputs": [
    {
     "data": {
      "image/png": "[encoded data removed]",
      "text/plain": [
       "<matplotlib.figure.Figure at 0x1d10abf59e8>"
      ]
     },
     "metadata": {},
     "output_type": "display_data"
    }
   ],
   "source": [
    "plt.plot(range(1,17), inertia_list, 'ro')\n",
    "#plt.axis([0, 10, 16000, 18000])\n",
    "plt.show()"
   ]
  },
  {
   "cell_type": "code",
   "execution_count": 68,
   "metadata": {
    "collapsed": true
   },
   "outputs": [],
   "source": [
    "silhouette_list = []"
   ]
  },
  {
   "cell_type": "code",
   "execution_count": 69,
   "metadata": {
    "collapsed": true
   },
   "outputs": [],
   "source": [
    "label_sample = np.empty((sample_size))"
   ]
  },
  {
   "cell_type": "code",
   "execution_count": 70,
   "metadata": {
    "collapsed": true
   },
   "outputs": [],
   "source": [
    "feat_sample = features[0:sample_size,:]"
   ]
  },
  {
   "cell_type": "code",
   "execution_count": 71,
   "metadata": {},
   "outputs": [
    {
     "name": "stdout",
     "output_type": "stream",
     "text": [
      "end  1\n",
      "end  2\n",
      "end  3\n",
      "end  4\n"
     ]
    }
   ],
   "source": [
    "for i in range(1,5):\n",
    "    label_sample = labels_list[i][0:sample_size]\n",
    "    silhouette_list.append(metrics.silhouette_score(feat_sample,label_sample,metric='euclidean'))\n",
    "    print('end ',i)"
   ]
  },
  {
   "cell_type": "code",
   "execution_count": 72,
   "metadata": {},
   "outputs": [
    {
     "data": {
      "text/plain": [
       "[0.080561655596033593,\n",
       " 0.046613284098071486,\n",
       " 0.041214795721976616,\n",
       " 0.04028473270377099]"
      ]
     },
     "execution_count": 72,
     "metadata": {},
     "output_type": "execute_result"
    }
   ],
   "source": [
    "silhouette_list"
   ]
  },
  {
   "cell_type": "markdown",
   "metadata": {},
   "source": [
    "# K Medoids"
   ]
  },
  {
   "cell_type": "code",
   "execution_count": 2,
   "metadata": {
    "collapsed": true
   },
   "outputs": [],
   "source": [
    "de# -*- coding: utf-8 -*-\n",
    "\"\"\"K-medoids clustering\"\"\"\n",
    "\n",
    "# Authors: Timo Erkkilä <timo.erkkila@gmail.com>\n",
    "#          Antti Lehmussola <antti.lehmussola@gmail.com>\n",
    "# License: BSD 3 clause\n",
    "\n",
    "import numpy as np\n",
    "import warnings\n",
    "\n",
    "from sklearn.base import BaseEstimator, ClusterMixin, TransformerMixin\n",
    "from sklearn.metrics.pairwise import PAIRWISE_DISTANCE_FUNCTIONS\n",
    "from sklearn.utils import check_array, check_random_state\n",
    "from sklearn.utils.validation import check_is_fitted\n",
    "\n",
    "\n",
    "class KMedoids(BaseEstimator, ClusterMixin, TransformerMixin):\n",
    "    \"\"\"\n",
    "    k-medoids class.\n",
    "    Parameters\n",
    "    ----------\n",
    "    n_clusters : int, optional, default: 8\n",
    "        How many medoids. Must be positive.\n",
    "    distance_metric : string, optional, default: 'euclidean'\n",
    "        What distance metric to use.\n",
    "    clustering : {'pam'}, optional, default: 'pam'\n",
    "        What clustering mode to use.\n",
    "    init : {'random', 'heuristic'}, optional, default: 'heuristic'\n",
    "        Specify medoid initialization.\n",
    "    max_iter : int, optional, default : 300\n",
    "        Specify the maximum number of iterations when fitting.\n",
    "    random_state : int, optional, default: None\n",
    "        Specify random state for the random number generator.\n",
    "    \"\"\"\n",
    "\n",
    "    # Supported clustering methods\n",
    "    CLUSTERING_METHODS = ['pam']\n",
    "\n",
    "    # Supported initialization methods\n",
    "    INIT_METHODS = ['random', 'heuristic']\n",
    "    \n",
    "\n",
    "    def __init__(self, n_clusters=8, distance_metric='euclidean',\n",
    "                 clustering_method='pam', init='heuristic',\n",
    "                 max_iter=300, random_state=None):\n",
    "\n",
    "        self.n_clusters = n_clusters\n",
    "\n",
    "        self.distance_metric = distance_metric\n",
    "\n",
    "        self.init = init\n",
    "\n",
    "        self.max_iter = max_iter\n",
    "\n",
    "        self.clustering_method = clustering_method\n",
    "\n",
    "        self.random_state = random_state\n",
    "        \n",
    "        self.medoid_ics = None\n",
    "\n",
    "    def _check_init_args(self):\n",
    "\n",
    "        # Check n_clusters\n",
    "        if self.n_clusters is None or self.n_clusters <= 0 or \\\n",
    "                not isinstance(self.n_clusters, int):\n",
    "            raise ValueError(\"n_clusters has to be nonnegative integer\")\n",
    "\n",
    "        # Check distance_metric\n",
    "        if callable(self.distance_metric):\n",
    "            self.distance_func = self.distance_metric\n",
    "        elif self.distance_metric in PAIRWISE_DISTANCE_FUNCTIONS:\n",
    "            self.distance_func = \\\n",
    "                PAIRWISE_DISTANCE_FUNCTIONS[self.distance_metric]\n",
    "        else:\n",
    "            raise ValueError(\"distance_metric needs to be \" +\n",
    "                             \"callable or one of the \" +\n",
    "                             \"following strings: \" +\n",
    "                             \"{}\".format(PAIRWISE_DISTANCE_FUNCTIONS.keys()) +\n",
    "                             \". Instead, '{}' \".format(self.distance_metric) +\n",
    "                             \"was given.\")\n",
    "\n",
    "        # Check clustering_method\n",
    "        if self.clustering_method not in self.CLUSTERING_METHODS:\n",
    "            raise ValueError(\"clustering must be one of the following: \" +\n",
    "                             \"{}\".format(self.CLUSTERING_METHODS))\n",
    "\n",
    "        # Check init\n",
    "        if self.init not in self.INIT_METHODS:\n",
    "            raise ValueError(\"init needs to be one of \" +\n",
    "                             \"the following: \" +\n",
    "                             \"{}\".format(self.INIT_METHODS))\n",
    "\n",
    "        # Check random state\n",
    "        self.random_state_ = check_random_state(self.random_state)\n",
    "\n",
    "    def fit(self, X, y=None):\n",
    "        \"\"\"Fit K-Medoids to the provided data.\n",
    "        Parameters\n",
    "        ----------\n",
    "        X : array-like or sparse matrix, shape=(n_samples, n_features)\n",
    "        Returns\n",
    "        -------\n",
    "        self\n",
    "        \"\"\"\n",
    "\n",
    "        self._check_init_args()\n",
    "\n",
    "        # Check that the array is good and attempt to convert it to\n",
    "        # Numpy array if possible\n",
    "        X = self._check_array(X)\n",
    "\n",
    "        # Apply distance metric to get the distance matrix\n",
    "        D = self.distance_func(X)\n",
    "\n",
    "        self.medoid_ics = self._get_initial_medoid_indices(D, self.n_clusters)\n",
    "\n",
    "        # Old medoids will be stored here for reference\n",
    "        old_medoid_ics = np.zeros((self.n_clusters,))\n",
    "\n",
    "        # Continue the algorithm as long as\n",
    "        # the medoids keep changing and the maximum number\n",
    "        # of iterations is not exceeded\n",
    "        self.n_iter_ = 0\n",
    "        while not np.all(old_medoid_ics == self.medoid_ics) and \\\n",
    "                self.n_iter_ < self.max_iter:\n",
    "\n",
    "            self.n_iter_ += 1\n",
    "            \n",
    "            print(\"iteration \", self.n_iter_)\n",
    "\n",
    "            # Keep a copy of the old medoid assignments\n",
    "            old_medoid_ics = np.copy(self.medoid_ics)\n",
    "\n",
    "            # Get cluster indices\n",
    "            cluster_ics = self._get_cluster_ics(D, self.medoid_ics)\n",
    "\n",
    "            # Update medoids with the new cluster indices\n",
    "            self._update_medoid_ics_in_place(D, cluster_ics, self.medoid_ics)\n",
    "\n",
    "        # Expose labels_ which are the assignments of\n",
    "        # the training data to clusters\n",
    "        self.labels_ = cluster_ics\n",
    "\n",
    "        # Expose cluster centers, i.e. medoids\n",
    "        self.cluster_centers_ = X.take(self.medoid_ics, axis=0)\n",
    "\n",
    "        # Return self to enable method chaining\n",
    "        return self\n",
    "\n",
    "    def _check_array(self, X):\n",
    "\n",
    "        X = check_array(X)\n",
    "\n",
    "        # Check that the number of clusters is less than or equal to\n",
    "        # the number of samples\n",
    "        if self.n_clusters > X.shape[0]:\n",
    "            raise ValueError(\"The number of medoids \" +\n",
    "                             \"({}) \".format(self.n_clusters) +\n",
    "                             \"must be larger than the number \" +\n",
    "                             \"of samples ({})\".format(X.shape[0]))\n",
    "\n",
    "        return X\n",
    "\n",
    "    def _get_cluster_ics(self, D, medoid_ics):\n",
    "        \"\"\"Returns cluster indices for D and current medoid indices\"\"\"\n",
    "\n",
    "        # Assign data points to clusters based on\n",
    "        # which cluster assignment yields\n",
    "        # the smallest distance\n",
    "        cluster_ics = np.argmin(D[medoid_ics, :], axis=0)\n",
    "\n",
    "        return cluster_ics\n",
    "\n",
    "    def _update_medoid_ics_in_place(self, D, cluster_ics, medoid_ics):\n",
    "        \"\"\"In-place update of the medoid indices\"\"\"\n",
    "\n",
    "        # Update the medoids for each cluster\n",
    "        for cluster_idx in range(self.n_clusters):\n",
    "\n",
    "            if sum(cluster_ics == cluster_idx) == 0:\n",
    "                warnings.warn(\"Cluster {} is empty!\".format(cluster_idx))\n",
    "                continue\n",
    "\n",
    "            # Find current cost that is associated with cluster_idx.\n",
    "            # Cost is the sum of the distance from the cluster\n",
    "            # members to the medoid.\n",
    "            curr_cost = np.sum(D[medoid_ics[cluster_idx],\n",
    "                                 cluster_ics == cluster_idx])\n",
    "\n",
    "            # Extract the distance matrix between the data points\n",
    "            # inside the cluster_idx\n",
    "            D_in = D[cluster_ics == cluster_idx, :]\n",
    "            D_in = D_in[:, cluster_ics == cluster_idx]\n",
    "\n",
    "            # Calculate all costs there exists between all\n",
    "            # the data points in the cluster_idx\n",
    "            all_costs = np.sum(D_in, axis=1)\n",
    "\n",
    "            # Find the index for the smallest cost in cluster_idx\n",
    "            min_cost_idx = np.argmin(all_costs)\n",
    "\n",
    "            # find the value of the minimum cost in cluster_idx\n",
    "            min_cost = all_costs[min_cost_idx]\n",
    "\n",
    "            # If the minimum cost is smaller than that\n",
    "            # exhibited by the currently used medoid,\n",
    "            # we switch to using the new medoid in cluster_idx\n",
    "            if min_cost < curr_cost:\n",
    "\n",
    "                # Find data points that belong to cluster_idx,\n",
    "                # and assign the newly found medoid as the medoid\n",
    "                # for cluster c\n",
    "                medoid_ics[cluster_idx] = \\\n",
    "                    np.where(cluster_ics == cluster_idx)[0][min_cost_idx]\n",
    "\n",
    "    def transform(self, X):\n",
    "        \"\"\"Transforms X to cluster-distance space.\n",
    "        Parameters\n",
    "        ----------\n",
    "        X : array-like or sparse matrix, shape=(n_samples, n_features)\n",
    "            Data to transform.\n",
    "        Returns\n",
    "        -------\n",
    "        X_new : array, shape=(n_samples, n_clusters)\n",
    "            X transformed in the new space.\n",
    "        \"\"\"\n",
    "\n",
    "        check_is_fitted(self, \"cluster_centers_\")\n",
    "\n",
    "        # Apply distance metric wrt. cluster centers (medoids),\n",
    "        # and return these distances\n",
    "        return self.distance_func(X, Y=self.cluster_centers_)\n",
    "\n",
    "    def predict(self, X):\n",
    "\n",
    "        check_is_fitted(self, \"cluster_centers_\")\n",
    "\n",
    "        # Check that the array is good and attempt to convert it to\n",
    "        # Numpy array if possible\n",
    "        X = check_array(X)\n",
    "\n",
    "        # Apply distance metric wrt. cluster centers (medoids)\n",
    "        D = self.distance_func(X, Y=self.cluster_centers_)\n",
    "\n",
    "        # Assign data points to clusters based on\n",
    "        # which cluster assignment yields\n",
    "        # the smallest distance\n",
    "        labels = np.argmin(D, axis=1)\n",
    "\n",
    "        return labels\n",
    "\n",
    "    def inertia(self, X):\n",
    "\n",
    "        # Map the original X to the distance-space\n",
    "        Xt = self.transform(X)\n",
    "\n",
    "        # Define inertia as the sum of the sample-distances\n",
    "        # to closest cluster centers\n",
    "        inertia = np.sum(np.min(Xt, axis=1))\n",
    "\n",
    "        return inertia\n",
    "\n",
    "    def _get_initial_medoid_indices(self, D, n_clusters):\n",
    "\n",
    "        if self.init == 'random':  # Random initialization\n",
    "\n",
    "            # Pick random k medoids as the initial ones.\n",
    "            medoids = self.random_state_.permutation(D.shape[0])[:n_clusters]\n",
    "\n",
    "        elif self.init == 'heuristic':  # Initialization by heuristic\n",
    "\n",
    "            # Pick K first data points that have the smallest sum distance\n",
    "            # to every other point. These are the initial medoids.\n",
    "            medoids = list(np.argsort(np.sum(D, axis=1))[:n_clusters])\n",
    "\n",
    "        else:\n",
    "\n",
    "            raise ValueError(\"Initialization not implemented for method: \" +\n",
    "                             \"'{}'\".format(self.init))\n",
    "\n",
    "        return medoids\n",
    "    \n",
    "    def get_current_medoid_indices(self):\n",
    "        return self.medoid_ics"
   ]
  },
  {
   "cell_type": "markdown",
   "metadata": {},
   "source": [
    "# Using the 16PF as input"
   ]
  },
  {
   "cell_type": "markdown",
   "metadata": {},
   "source": [
    "This data set has no noise or outliers"
   ]
  },
  {
   "cell_type": "code",
   "execution_count": 24,
   "metadata": {
    "collapsed": true
   },
   "outputs": [],
   "source": [
    "features = np.genfromtxt('output_limpo_semINTMAX.csv',delimiter=',')"
   ]
  },
  {
   "cell_type": "code",
   "execution_count": 4,
   "metadata": {},
   "outputs": [
    {
     "data": {
      "text/plain": [
       "(48249, 16)"
      ]
     },
     "execution_count": 4,
     "metadata": {},
     "output_type": "execute_result"
    }
   ],
   "source": [
    "features.shape"
   ]
  },
  {
   "cell_type": "code",
   "execution_count": 5,
   "metadata": {
    "collapsed": true
   },
   "outputs": [],
   "source": [
    "(n_samples,n_features) = features.shape"
   ]
  },
  {
   "cell_type": "markdown",
   "metadata": {},
   "source": [
    "For lack of memory reasons, it is not possible to run the K-medoids with all the data"
   ]
  },
  {
   "cell_type": "code",
   "execution_count": 7,
   "metadata": {
    "collapsed": true
   },
   "outputs": [],
   "source": [
    "sample_med = n_samples/3"
   ]
  },
  {
   "cell_type": "code",
   "execution_count": 7,
   "metadata": {
    "collapsed": true
   },
   "outputs": [],
   "source": [
    "sample_med = int(sample_med)"
   ]
  },
  {
   "cell_type": "code",
   "execution_count": 8,
   "metadata": {
    "collapsed": true
   },
   "outputs": [],
   "source": [
    "np.random.shuffle(features)"
   ]
  },
  {
   "cell_type": "code",
   "execution_count": 9,
   "metadata": {
    "collapsed": true,
    "scrolled": true
   },
   "outputs": [],
   "source": [
    "crop_d = features[0:sample_med,:]"
   ]
  },
  {
   "cell_type": "code",
   "execution_count": 10,
   "metadata": {
    "scrolled": true
   },
   "outputs": [
    {
     "data": {
      "text/plain": [
       "(16083, 16)"
      ]
     },
     "execution_count": 10,
     "metadata": {},
     "output_type": "execute_result"
    }
   ],
   "source": [
    "crop_d.shape"
   ]
  },
  {
   "cell_type": "code",
   "execution_count": 11,
   "metadata": {
    "collapsed": true
   },
   "outputs": [],
   "source": [
    "k_medoids = []"
   ]
  },
  {
   "cell_type": "code",
   "execution_count": 12,
   "metadata": {
    "collapsed": true
   },
   "outputs": [],
   "source": [
    "for i in range(1,16):\n",
    "    k_medoids.append(KMedoids(n_clusters=i),)"
   ]
  },
  {
   "cell_type": "code",
   "execution_count": 14,
   "metadata": {
    "scrolled": true
   },
   "outputs": [
    {
     "name": "stdout",
     "output_type": "stream",
     "text": [
      "begin 1\n",
      "iteration  1\n",
      "iteration  2\n",
      "begin 2\n",
      "iteration  1\n",
      "iteration  2\n",
      "iteration  3\n",
      "iteration  4\n",
      "iteration  5\n",
      "begin 3\n",
      "iteration  1\n",
      "iteration  2\n",
      "begin 4\n",
      "iteration  1\n",
      "iteration  2\n",
      "iteration  3\n",
      "begin 5\n",
      "iteration  1\n",
      "iteration  2\n",
      "begin 6\n",
      "iteration  1\n",
      "iteration  2\n",
      "begin 7\n",
      "iteration  1\n",
      "iteration  2\n",
      "iteration  3\n",
      "begin 8\n",
      "iteration  1\n",
      "iteration  2\n",
      "iteration  3\n",
      "begin 9\n",
      "iteration  1\n",
      "iteration  2\n",
      "begin 10\n",
      "iteration  1\n",
      "iteration  2\n",
      "iteration  3\n",
      "begin 11\n",
      "iteration  1\n",
      "iteration  2\n",
      "iteration  3\n",
      "begin 12\n",
      "iteration  1\n",
      "iteration  2\n",
      "iteration  3\n",
      "begin 13\n",
      "iteration  1\n",
      "iteration  2\n",
      "iteration  3\n",
      "begin 14\n",
      "iteration  1\n",
      "iteration  2\n",
      "iteration  3\n",
      "begin 15\n"
     ]
    },
    {
     "ename": "IndexError",
     "evalue": "list index out of range",
     "output_type": "error",
     "traceback": [
      "\u001b[1;31m---------------------------------------------------------------------------\u001b[0m",
      "\u001b[1;31mIndexError\u001b[0m                                Traceback (most recent call last)",
      "\u001b[1;32m<ipython-input-14-acd0e35beef7>\u001b[0m in \u001b[0;36m<module>\u001b[1;34m()\u001b[0m\n\u001b[0;32m      1\u001b[0m \u001b[1;32mfor\u001b[0m \u001b[0mi\u001b[0m \u001b[1;32min\u001b[0m \u001b[0mrange\u001b[0m\u001b[1;33m(\u001b[0m\u001b[1;36m1\u001b[0m\u001b[1;33m,\u001b[0m\u001b[1;36m16\u001b[0m\u001b[1;33m)\u001b[0m\u001b[1;33m:\u001b[0m\u001b[1;33m\u001b[0m\u001b[0m\n\u001b[0;32m      2\u001b[0m     \u001b[0mprint\u001b[0m\u001b[1;33m(\u001b[0m\u001b[1;34m'begin'\u001b[0m\u001b[1;33m,\u001b[0m\u001b[0mi\u001b[0m\u001b[1;33m)\u001b[0m\u001b[1;33m\u001b[0m\u001b[0m\n\u001b[1;32m----> 3\u001b[1;33m     \u001b[0mk_medoids\u001b[0m\u001b[1;33m[\u001b[0m\u001b[0mi\u001b[0m\u001b[1;33m]\u001b[0m\u001b[1;33m.\u001b[0m\u001b[0mfit\u001b[0m\u001b[1;33m(\u001b[0m\u001b[0mcrop_d\u001b[0m\u001b[1;33m)\u001b[0m\u001b[1;33m\u001b[0m\u001b[0m\n\u001b[0m",
      "\u001b[1;31mIndexError\u001b[0m: list index out of range"
     ]
    }
   ],
   "source": [
    "for i in range(1,15):\n",
    "    print('begin',i)\n",
    "    k_medoids[i].fit(crop_d)"
   ]
  },
  {
   "cell_type": "code",
   "execution_count": 16,
   "metadata": {
    "collapsed": true
   },
   "outputs": [],
   "source": [
    "labels_list = []"
   ]
  },
  {
   "cell_type": "code",
   "execution_count": 17,
   "metadata": {
    "collapsed": true
   },
   "outputs": [],
   "source": [
    "for i in range(15):\n",
    "    labels_list.append(k_medoids[i].predict(crop_d))"
   ]
  },
  {
   "cell_type": "code",
   "execution_count": 15,
   "metadata": {
    "collapsed": true
   },
   "outputs": [],
   "source": [
    "silhouette_list = []"
   ]
  },
  {
   "cell_type": "code",
   "execution_count": 21,
   "metadata": {},
   "outputs": [
    {
     "name": "stdout",
     "output_type": "stream",
     "text": [
      "begin 1\n",
      "begin 2\n",
      "begin 3\n",
      "begin 4\n",
      "begin 5\n",
      "begin 6\n",
      "begin 7\n",
      "begin 8\n",
      "begin 9\n",
      "begin 10\n",
      "begin 11\n",
      "begin 12\n",
      "begin 13\n",
      "begin 14\n"
     ]
    }
   ],
   "source": [
    "for i in range(1,15):\n",
    "    print('begin',i)\n",
    "    silhouette_list.append(metrics.silhouette_score(crop_d,labels_list[i],metric='euclidean'))"
   ]
  },
  {
   "cell_type": "code",
   "execution_count": 22,
   "metadata": {},
   "outputs": [
    {
     "data": {
      "text/plain": [
       "[0.053073196821218194,\n",
       " 0.075496297560943504,\n",
       " 0.030781335768721895,\n",
       " 0.047564407334737629,\n",
       " 0.048239198491787018,\n",
       " 0.047216935287281825,\n",
       " 0.057232541146489249,\n",
       " 0.043537006479970032,\n",
       " 0.03730616870485319,\n",
       " 0.048177365054824964,\n",
       " 0.041041914500467819,\n",
       " 0.037215686089995842,\n",
       " 0.030150876393663581,\n",
       " 0.027676336480346099]"
      ]
     },
     "execution_count": 22,
     "metadata": {},
     "output_type": "execute_result"
    }
   ],
   "source": [
    "silhouette_list"
   ]
  },
  {
   "cell_type": "markdown",
   "metadata": {},
   "source": [
    "# More data"
   ]
  },
  {
   "cell_type": "markdown",
   "metadata": {},
   "source": [
    "Trying with more data to best represent the original"
   ]
  },
  {
   "cell_type": "code",
   "execution_count": 6,
   "metadata": {
    "collapsed": true
   },
   "outputs": [],
   "source": [
    "sample_med = n_samples/2"
   ]
  },
  {
   "cell_type": "code",
   "execution_count": 7,
   "metadata": {
    "collapsed": true
   },
   "outputs": [],
   "source": [
    "sample_med = int(sample_med)"
   ]
  },
  {
   "cell_type": "code",
   "execution_count": 8,
   "metadata": {
    "collapsed": true
   },
   "outputs": [],
   "source": [
    "np.random.shuffle(features)"
   ]
  },
  {
   "cell_type": "code",
   "execution_count": 9,
   "metadata": {
    "collapsed": true,
    "scrolled": true
   },
   "outputs": [],
   "source": [
    "crop_d = features[0:sample_med,:]"
   ]
  },
  {
   "cell_type": "code",
   "execution_count": 10,
   "metadata": {
    "scrolled": false
   },
   "outputs": [
    {
     "data": {
      "text/plain": [
       "(24124, 16)"
      ]
     },
     "execution_count": 10,
     "metadata": {},
     "output_type": "execute_result"
    }
   ],
   "source": [
    "crop_d.shape"
   ]
  },
  {
   "cell_type": "code",
   "execution_count": 12,
   "metadata": {
    "collapsed": true
   },
   "outputs": [],
   "source": [
    "k_medoids = []"
   ]
  },
  {
   "cell_type": "code",
   "execution_count": 13,
   "metadata": {
    "collapsed": true
   },
   "outputs": [],
   "source": [
    "for i in range(2,5):\n",
    "    k_medoids.append(KMedoids(n_clusters=i))"
   ]
  },
  {
   "cell_type": "code",
   "execution_count": 14,
   "metadata": {
    "scrolled": true
   },
   "outputs": [
    {
     "name": "stdout",
     "output_type": "stream",
     "text": [
      "begin 0\n",
      "iteration  1\n",
      "iteration  2\n",
      "iteration  3\n",
      "begin 1\n",
      "iteration  1\n",
      "iteration  2\n",
      "iteration  3\n",
      "begin 2\n",
      "iteration  1\n",
      "iteration  2\n",
      "iteration  3\n"
     ]
    }
   ],
   "source": [
    "for i in range(3):\n",
    "    print('begin',i)\n",
    "    k_medoids[i].fit(crop_d)"
   ]
  },
  {
   "cell_type": "code",
   "execution_count": 30,
   "metadata": {
    "collapsed": true
   },
   "outputs": [],
   "source": [
    "labels_list = []"
   ]
  },
  {
   "cell_type": "code",
   "execution_count": 16,
   "metadata": {
    "collapsed": true
   },
   "outputs": [],
   "source": [
    "for i in range(3):\n",
    "    labels_list.append(k_medoids[i].predict(crop_d))"
   ]
  },
  {
   "cell_type": "code",
   "execution_count": 29,
   "metadata": {
    "collapsed": true
   },
   "outputs": [],
   "source": [
    "silhouette_list = []"
   ]
  },
  {
   "cell_type": "code",
   "execution_count": 18,
   "metadata": {},
   "outputs": [
    {
     "name": "stdout",
     "output_type": "stream",
     "text": [
      "begin 0\n",
      "begin 1\n",
      "begin 2\n"
     ]
    }
   ],
   "source": [
    "for i in range(3):\n",
    "    print('begin',i)\n",
    "    silhouette_list.append(metrics.silhouette_score(crop_d,labels_list[i],metric='euclidean'))"
   ]
  },
  {
   "cell_type": "code",
   "execution_count": 28,
   "metadata": {
    "scrolled": true
   },
   "outputs": [
    {
     "data": {
      "text/plain": [
       "[0.0940707328533286, 0.08051435738425429, 0.07490371105878606]"
      ]
     },
     "execution_count": 28,
     "metadata": {},
     "output_type": "execute_result"
    }
   ],
   "source": [
    "silhouette_list"
   ]
  },
  {
   "cell_type": "markdown",
   "metadata": {},
   "source": [
    "# other metrics"
   ]
  },
  {
   "cell_type": "markdown",
   "metadata": {},
   "source": [
    "### cosine"
   ]
  },
  {
   "cell_type": "code",
   "execution_count": 11,
   "metadata": {
    "collapsed": true
   },
   "outputs": [],
   "source": [
    "crop_d /= np.max(crop_d)"
   ]
  },
  {
   "cell_type": "code",
   "execution_count": 12,
   "metadata": {
    "scrolled": true
   },
   "outputs": [
    {
     "data": {
      "text/plain": [
       "array([[ 0.45238095,  0.67765571,  0.23809524, ...,  0.66666667,\n",
       "         0.45238095,  0.69047619],\n",
       "       [ 0.73809524,  0.67765571,  0.52380952, ...,  0.57142857,\n",
       "         0.5       ,  0.5952381 ],\n",
       "       [ 0.57142857,  0.69597071,  0.66666667, ...,  0.47619048,\n",
       "         0.38095238,  0.35714286],\n",
       "       ..., \n",
       "       [ 0.61904762,  0.65934071,  0.42857143, ...,  0.45238095,\n",
       "         0.52380952,  0.45238095],\n",
       "       [ 0.66666667,  0.58608048,  0.38095238, ...,  0.69047619,\n",
       "         0.54761905,  0.19047619],\n",
       "       [ 0.71428571,  0.84249095,  0.66666667, ...,  0.69047619,\n",
       "         0.85714286,  0.47619048]])"
      ]
     },
     "execution_count": 12,
     "metadata": {},
     "output_type": "execute_result"
    }
   ],
   "source": [
    "crop_d"
   ]
  },
  {
   "cell_type": "code",
   "execution_count": 13,
   "metadata": {
    "collapsed": true
   },
   "outputs": [],
   "source": [
    "k_medoids = []"
   ]
  },
  {
   "cell_type": "code",
   "execution_count": 14,
   "metadata": {
    "collapsed": true
   },
   "outputs": [],
   "source": [
    "for i in range(2,5):\n",
    "    k_medoids.append(KMedoids(n_clusters=i,distance_metric='cosine'))"
   ]
  },
  {
   "cell_type": "code",
   "execution_count": 15,
   "metadata": {
    "scrolled": true
   },
   "outputs": [
    {
     "name": "stdout",
     "output_type": "stream",
     "text": [
      "begin 0\n",
      "iteration  1\n",
      "iteration  2\n",
      "begin 1\n",
      "iteration  1\n",
      "iteration  2\n",
      "iteration  3\n",
      "begin 2\n",
      "iteration  1\n",
      "iteration  2\n",
      "iteration  3\n"
     ]
    }
   ],
   "source": [
    "for i in range(3):\n",
    "    print('begin',i)\n",
    "    k_medoids[i].fit(crop_d)"
   ]
  },
  {
   "cell_type": "code",
   "execution_count": 16,
   "metadata": {
    "collapsed": true
   },
   "outputs": [],
   "source": [
    "labels_list = []"
   ]
  },
  {
   "cell_type": "code",
   "execution_count": 17,
   "metadata": {
    "collapsed": true
   },
   "outputs": [],
   "source": [
    "for i in range(3):\n",
    "    labels_list.append(k_medoids[i].predict(crop_d))"
   ]
  },
  {
   "cell_type": "code",
   "execution_count": 18,
   "metadata": {
    "collapsed": true
   },
   "outputs": [],
   "source": [
    "silhouette_list = []"
   ]
  },
  {
   "cell_type": "code",
   "execution_count": 19,
   "metadata": {
    "scrolled": true
   },
   "outputs": [
    {
     "name": "stdout",
     "output_type": "stream",
     "text": [
      "begin 0\n",
      "begin 1\n",
      "begin 2\n"
     ]
    }
   ],
   "source": [
    "for i in range(3):\n",
    "    print('begin',i)\n",
    "    silhouette_list.append(metrics.silhouette_score(crop_d,labels_list[i],metric='cosine'))"
   ]
  },
  {
   "cell_type": "code",
   "execution_count": 32,
   "metadata": {
    "scrolled": true
   },
   "outputs": [
    {
     "data": {
      "text/plain": [
       "[0.16061575, 0.19921601, 0.17753999]"
      ]
     },
     "execution_count": 32,
     "metadata": {},
     "output_type": "execute_result"
    }
   ],
   "source": [
    "silhouette_list"
   ]
  },
  {
   "cell_type": "markdown",
   "metadata": {},
   "source": [
    "### manhattan"
   ]
  },
  {
   "cell_type": "code",
   "execution_count": 61,
   "metadata": {
    "collapsed": true
   },
   "outputs": [],
   "source": [
    "k_medoids = []"
   ]
  },
  {
   "cell_type": "code",
   "execution_count": 62,
   "metadata": {
    "collapsed": true
   },
   "outputs": [],
   "source": [
    "for i in range(2,4):\n",
    "    k_medoids.append(KMedoids(n_clusters=i,distance_metric='manhattan'))"
   ]
  },
  {
   "cell_type": "code",
   "execution_count": 63,
   "metadata": {
    "scrolled": true
   },
   "outputs": [
    {
     "name": "stdout",
     "output_type": "stream",
     "text": [
      "begin 0\n",
      "iteration  1\n",
      "iteration  2\n",
      "begin 1\n",
      "iteration  1\n",
      "iteration  2\n",
      "iteration  3\n",
      "iteration  4\n"
     ]
    }
   ],
   "source": [
    "for i in range(2):\n",
    "    print('begin',i)\n",
    "    k_medoids[i].fit(crop_d)"
   ]
  },
  {
   "cell_type": "code",
   "execution_count": 64,
   "metadata": {
    "collapsed": true
   },
   "outputs": [],
   "source": [
    "labels_list = []"
   ]
  },
  {
   "cell_type": "code",
   "execution_count": 65,
   "metadata": {
    "collapsed": true
   },
   "outputs": [],
   "source": [
    "for i in range(2):\n",
    "    labels_list.append(k_medoids[i].predict(crop_d))"
   ]
  },
  {
   "cell_type": "code",
   "execution_count": 66,
   "metadata": {
    "collapsed": true
   },
   "outputs": [],
   "source": [
    "silhouette_list = []"
   ]
  },
  {
   "cell_type": "code",
   "execution_count": 67,
   "metadata": {
    "scrolled": false
   },
   "outputs": [
    {
     "name": "stdout",
     "output_type": "stream",
     "text": [
      "begin 0\n",
      "begin 1\n"
     ]
    }
   ],
   "source": [
    "for i in range(2):\n",
    "    print('begin',i)\n",
    "    silhouette_list.append(metrics.silhouette_score(crop_d,labels_list[i],metric='manhattan'))"
   ]
  },
  {
   "cell_type": "code",
   "execution_count": 204,
   "metadata": {},
   "outputs": [
    {
     "data": {
      "text/plain": [
       "[0.17629505896685452, 0.068458627481225151]"
      ]
     },
     "execution_count": 204,
     "metadata": {},
     "output_type": "execute_result"
    }
   ],
   "source": [
    "silhouette_list"
   ]
  },
  {
   "cell_type": "markdown",
   "metadata": {},
   "source": [
    "# Checking the medoids"
   ]
  },
  {
   "cell_type": "markdown",
   "metadata": {},
   "source": [
    "### manhattan metric"
   ]
  },
  {
   "cell_type": "code",
   "execution_count": 63,
   "metadata": {},
   "outputs": [
    {
     "data": {
      "text/plain": [
       "array([[ 0.65116279,  0.62611814,  0.53488372,  0.58139535,  0.46511628,\n",
       "         0.53488372,  0.48837209,  0.65116279,  0.37209302,  0.51162791,\n",
       "         0.48837209,  0.44186047,  0.65116279,  0.55813953,  0.46511628,\n",
       "         0.46511628],\n",
       "       [ 0.15503876,  0.14055714,  0.13842746,  0.13842746,  0.13289037,\n",
       "         0.13842746,  0.11627907,  0.13289037,  0.09966777,  0.11627907,\n",
       "         0.08859358,  0.10520487,  0.14950166,  0.12735327,  0.11074197,\n",
       "         0.08859358]])"
      ]
     },
     "execution_count": 63,
     "metadata": {},
     "output_type": "execute_result"
    }
   ],
   "source": [
    "k_medoids[0].cluster_centers_"
   ]
  },
  {
   "cell_type": "markdown",
   "metadata": {},
   "source": [
    "4.3 is approximately the maximum of the input set"
   ]
  },
  {
   "cell_type": "code",
   "execution_count": 68,
   "metadata": {
    "scrolled": false
   },
   "outputs": [
    {
     "name": "stdout",
     "output_type": "stream",
     "text": [
      "[[ 2.8         2.692308    2.3         2.5         2.          2.3         2.1\n",
      "   2.8         1.6         2.2         2.1         1.9         2.8         2.4\n",
      "   2.          2.        ]\n",
      " [ 0.66666667  0.60439571  0.5952381   0.5952381   0.57142857  0.5952381\n",
      "   0.5         0.57142857  0.42857143  0.5         0.38095238  0.45238095\n",
      "   0.64285714  0.54761905  0.47619048  0.38095238]]\n"
     ]
    }
   ],
   "source": [
    "print(k_medoids[0].cluster_centers_ * 4.3)"
   ]
  },
  {
   "cell_type": "markdown",
   "metadata": {},
   "source": [
    "### cosine metric"
   ]
  },
  {
   "cell_type": "code",
   "execution_count": 21,
   "metadata": {},
   "outputs": [
    {
     "name": "stdout",
     "output_type": "stream",
     "text": [
      "[[ 3.07142857  3.30769207  2.96904762  2.86666667  2.66190476  2.55952381\n",
      "   2.86666667  2.76428571  1.84285714  2.86666667  1.84285714  1.84285714\n",
      "   2.96904762  2.04761905  2.76428571  1.84285714]\n",
      " [ 2.66190476  2.67765607  1.84285714  2.3547619   1.63809524  2.45714286\n",
      "   1.53571429  2.45714286  2.04761905  2.45714286  2.3547619   2.76428571\n",
      "   2.76428571  3.07142857  2.3547619   2.3547619 ]]\n"
     ]
    }
   ],
   "source": [
    "print(k_medoids[0].cluster_centers_*4.3)"
   ]
  },
  {
   "cell_type": "code",
   "execution_count": 22,
   "metadata": {},
   "outputs": [
    {
     "name": "stdout",
     "output_type": "stream",
     "text": [
      "[[ 3.37857143  3.07142857  2.86666667  3.17380952  2.45714286  2.66190476\n",
      "   3.17380952  2.96904762  1.63809524  2.45714286  1.43333333  1.84285714\n",
      "   3.37857143  2.15        2.15        1.63809524]\n",
      " [ 2.55952381  2.44139155  1.74047619  2.04761905  1.9452381   1.43333333\n",
      "   1.43333333  2.55952381  2.25238095  2.86666667  2.04761905  2.55952381\n",
      "   3.07142857  2.76428571  1.84285714  1.63809524]\n",
      " [ 2.25238095  2.20512805  2.25238095  2.15        2.25238095  2.25238095\n",
      "   1.84285714  2.15        2.15        2.04761905  2.3547619   2.15\n",
      "   2.25238095  2.15        2.15        2.04761905]]\n"
     ]
    }
   ],
   "source": [
    "print(k_medoids[1].cluster_centers_*4.3)"
   ]
  },
  {
   "cell_type": "markdown",
   "metadata": {},
   "source": [
    "Future: do feature clustering"
   ]
  }
 ],
 "metadata": {
  "kernelspec": {
   "display_name": "Python 3",
   "language": "python",
   "name": "python3"
  },
  "language_info": {
   "codemirror_mode": {
    "name": "ipython",
    "version": 3
   },
   "file_extension": ".py",
   "mimetype": "text/x-python",
   "name": "python",
   "nbconvert_exporter": "python",
   "pygments_lexer": "ipython3",
   "version": "3.6.1"
  }
 },
 "nbformat": 4,
 "nbformat_minor": 2
}
