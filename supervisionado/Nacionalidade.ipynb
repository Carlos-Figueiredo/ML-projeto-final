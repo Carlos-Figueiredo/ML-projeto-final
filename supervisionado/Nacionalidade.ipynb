{
 "cells": [
  {
   "cell_type": "code",
   "execution_count": 15,
   "metadata": {
    "scrolled": true
   },
   "outputs": [
    {
     "name": "stdout",
     "output_type": "stream",
     "text": [
      "(48249, 17)\n"
     ]
    }
   ],
   "source": [
    "import numpy\n",
    "from numpy import genfromtxt\n",
    "\n",
    "# Abrindo o CSV\n",
    "data = genfromtxt('data_nacionalidade.csv', delimiter=',')\n",
    "print(data.shape)"
   ]
  },
  {
   "cell_type": "code",
   "execution_count": 16,
   "metadata": {},
   "outputs": [
    {
     "ename": "IndexError",
     "evalue": "index 167 is out of bounds for axis 1 with size 17",
     "output_type": "error",
     "traceback": [
      "\u001b[0;31m---------------------------------------------------------------------------\u001b[0m",
      "\u001b[0;31mIndexError\u001b[0m                                Traceback (most recent call last)",
      "\u001b[0;32m<ipython-input-16-207e0a807478>\u001b[0m in \u001b[0;36m<module>\u001b[0;34m()\u001b[0m\n\u001b[1;32m      1\u001b[0m \u001b[0;31m# Pegando apenas as entradas e saidas\u001b[0m\u001b[0;34m\u001b[0m\u001b[0;34m\u001b[0m\u001b[0m\n\u001b[1;32m      2\u001b[0m \u001b[0;34m\u001b[0m\u001b[0m\n\u001b[0;32m----> 3\u001b[0;31m \u001b[0mnacionalidade\u001b[0m \u001b[0;34m=\u001b[0m \u001b[0mdata\u001b[0m\u001b[0;34m[\u001b[0m\u001b[0;36m1\u001b[0m\u001b[0;34m:\u001b[0m\u001b[0;34m,\u001b[0m \u001b[0;36m167\u001b[0m\u001b[0;34m]\u001b[0m \u001b[0;31m# Nacionalidade\u001b[0m\u001b[0;34m\u001b[0m\u001b[0m\n\u001b[0m\u001b[1;32m      4\u001b[0m \u001b[0macuracia\u001b[0m \u001b[0;34m=\u001b[0m \u001b[0mdata\u001b[0m\u001b[0;34m[\u001b[0m\u001b[0;36m1\u001b[0m\u001b[0;34m:\u001b[0m\u001b[0;34m,\u001b[0m \u001b[0;36m165\u001b[0m\u001b[0;34m]\u001b[0m \u001b[0;31m# Acuracia\u001b[0m\u001b[0;34m\u001b[0m\u001b[0m\n\u001b[1;32m      5\u001b[0m \u001b[0;34m\u001b[0m\u001b[0m\n",
      "\u001b[0;31mIndexError\u001b[0m: index 167 is out of bounds for axis 1 with size 17"
     ]
    }
   ],
   "source": [
    "# Pegando apenas as entradas e saidas\n",
    "\n",
    "nacionalidade = data[1:, 167] # Nacionalidade\n",
    "acuracia = data[1:, 165] # Acuracia\n",
    "\n",
    "data = data[1: , 0:163] # Perguntas\n",
    "\n",
    "(nData, nFeatures) = data.shape\n",
    "\n",
    "print('nData: ', nData)\n",
    "print('nFeatures: ', nFeatures)"
   ]
  },
  {
   "cell_type": "code",
   "execution_count": 12,
   "metadata": {},
   "outputs": [
    {
     "name": "stdout",
     "output_type": "stream",
     "text": [
      "((43424, 163), (43424,))\n",
      "((4825, 163), (4825,))\n"
     ]
    }
   ],
   "source": [
    "# Separando em dados de teste e treino\n",
    "from sklearn.model_selection import train_test_split\n",
    "\n",
    "(dataTrain, dataTest, yTrain, yTest, acuraciaTrain, acuraciaTest) = train_test_split(data, nacionalidade, acuracia, test_size = 0.1, shuffle=True)\n",
    "\n",
    "print(dataTrain.shape, yTrain.shape)\n",
    "print(dataTest.shape, yTest.shape)"
   ]
  },
  {
   "cell_type": "code",
   "execution_count": 13,
   "metadata": {
    "scrolled": true
   },
   "outputs": [
    {
     "name": "stdout",
     "output_type": "stream",
     "text": [
      "convergence after 285 epochs took 70 seconds\n",
      "('Train: ', 0.5021186440677966)\n",
      "('Test:  ', 0.49575129533678758)\n"
     ]
    },
    {
     "name": "stderr",
     "output_type": "stream",
     "text": [
      "[Parallel(n_jobs=-1)]: Done   1 out of   1 | elapsed:  1.2min finished\n"
     ]
    }
   ],
   "source": [
    "# Regressão Logistica\n",
    "from sklearn.linear_model import LogisticRegression\n",
    "\n",
    "md = LogisticRegression(\n",
    "            penalty='l2',\n",
    "            dual=False,\n",
    "            tol=1e-4,\n",
    "            C=1.0,\n",
    "            fit_intercept=True,\n",
    "            intercept_scaling=1,\n",
    "            class_weight=None,\n",
    "            random_state=None,\n",
    "            solver='saga',\n",
    "            max_iter=10000,\n",
    "            multi_class='multinomial',\n",
    "            verbose=1,\n",
    "            warm_start=False,\n",
    "            n_jobs=-1    \n",
    "        )\n",
    "\n",
    "md.fit(dataTrain, yTrain)\n",
    "print('Train: ', md.score(dataTrain, yTrain))\n",
    "print('Test:  ', md.score(dataTest, yTest))"
   ]
  },
  {
   "cell_type": "code",
   "execution_count": 14,
   "metadata": {},
   "outputs": [
    {
     "name": "stdout",
     "output_type": "stream",
     "text": [
      "Iteration 1, loss = 1.37545115\n",
      "Iteration 2, loss = 1.14257585\n",
      "Iteration 3, loss = 1.12958880\n",
      "Iteration 4, loss = 1.12310687\n",
      "Iteration 5, loss = 1.12271635\n",
      "Iteration 6, loss = 1.11629440\n",
      "Iteration 7, loss = 1.11887626\n",
      "Iteration 8, loss = 1.11879301\n",
      "Iteration 9, loss = 1.11934837\n",
      "Training loss did not improve more than tol=0.000100 for two consecutive epochs. Stopping.\n",
      "('Train: ', 0.49474944731024317)\n",
      "('Test:  ', 0.49119170984455957)\n"
     ]
    }
   ],
   "source": [
    "# Cria uma rede neural\n",
    "from sklearn.neural_network import MLPClassifier\n",
    "\n",
    "md = MLPClassifier(\n",
    "            hidden_layer_sizes = (100, 100),\n",
    "            activation = 'identity',\n",
    "#             solver = 'sgd',\n",
    "            alpha = 1e-6,\n",
    "#             batch_size = 'auto',\n",
    "            learning_rate = 'adaptive',\n",
    "#             learning_rate_init = 0.001,\n",
    "#             power_t = 0.5,\n",
    "#             max_iter = 10000,\n",
    "#             shuffle = True,\n",
    "#             random_state = None,\n",
    "#             tol = 1e-4,\n",
    "            verbose = True,\n",
    "#             warm_start = False,\n",
    "#             momentum = 0.9,\n",
    "#             nesterovs_momentum = True,\n",
    "#             early_stopping = False,\n",
    "#             validation_fraction = 0.15    \n",
    "        )\n",
    "\n",
    "md.fit(dataTrain, yTrain)\n",
    "print('Train: ', md.score(dataTrain, yTrain))\n",
    "print('Test:  ', md.score(dataTest, yTest))"
   ]
  },
  {
   "cell_type": "code",
   "execution_count": null,
   "metadata": {},
   "outputs": [],
   "source": [
    "# Matriz de confusão\n",
    "\n",
    "from sklearn.metrics import confusion_matrix\n",
    "import matplotlib.pyplot as plt\n",
    "import itertools\n",
    "\n",
    "# Primeiro, os dados tem os valores de cada tem: yTest\n",
    "# Agora vou montar meu vetor de predições: yPredict\n",
    "\n",
    "yPred = md.predict(dataTest)\n",
    "classes = ['Not US', 'US']\n",
    "\n",
    "matrix = confusion_matrix(yTest, yPred)\n",
    "\n",
    "def plot_confusion_matrix(cm, classes, normalize=True, title='Confusion matrix', cmap=plt.cm.Blues):\n",
    "    if normalize:\n",
    "        cm = cm.astype('float') / cm.sum(axis=1)[:, numpy.newaxis]\n",
    "        print(\"Normalized confusion matrix\")\n",
    "    else:\n",
    "        print('Confusion matrix, without normalization')\n",
    "\n",
    "    print(cm)\n",
    "\n",
    "    plt.imshow(cm, interpolation='nearest', cmap=cmap)\n",
    "    plt.title(title)\n",
    "    plt.colorbar()\n",
    "    tick_marks = numpy.arange(len(classes))\n",
    "    plt.xticks(tick_marks, classes, rotation=45)\n",
    "    plt.yticks(tick_marks, classes)\n",
    "\n",
    "    fmt = '.2f' if normalize else 'd'\n",
    "    thresh = cm.max() / 2.\n",
    "    for i, j in itertools.product(range(cm.shape[0]), range(cm.shape[1])):\n",
    "        plt.text(j, i, format(cm[i, j], fmt),\n",
    "                 horizontalalignment=\"center\",\n",
    "                 color=\"white\" if cm[i, j] > thresh else \"black\")\n",
    "\n",
    "    plt.tight_layout()\n",
    "    plt.ylabel('True label')\n",
    "    plt.xlabel('Predicted label')\n",
    "\n",
    "    \n",
    "# Plot non-normalized confusion matrix\n",
    "plt.figure()\n",
    "plot_confusion_matrix(matrix,classes=classes, title='Confusion matrix, without normalization')\n",
    "\n"
   ]
  }
 ],
 "metadata": {
  "kernelspec": {
   "display_name": "Python 2",
   "language": "python",
   "name": "python2"
  },
  "language_info": {
   "codemirror_mode": {
    "name": "ipython",
    "version": 2
   },
   "file_extension": ".py",
   "mimetype": "text/x-python",
   "name": "python",
   "nbconvert_exporter": "python",
   "pygments_lexer": "ipython2",
   "version": "2.7.13"
  }
 },
 "nbformat": 4,
 "nbformat_minor": 2
}
