{
 "cells": [
  {
   "cell_type": "code",
   "execution_count": 1,
   "metadata": {
    "scrolled": true
   },
   "outputs": [
    {
     "name": "stdout",
     "output_type": "stream",
     "text": [
      "(48564, 169)\n"
     ]
    }
   ],
   "source": [
    "import numpy\n",
    "from numpy import genfromtxt\n",
    "\n",
    "# Abrindo o CSV\n",
    "data = genfromtxt('data_limpo.csv', delimiter=',')\n",
    "print(data.shape)"
   ]
  },
  {
   "cell_type": "code",
   "execution_count": 2,
   "metadata": {},
   "outputs": [
    {
     "name": "stdout",
     "output_type": "stream",
     "text": [
      "('nData: ', 48563)\n",
      "('nFeatures: ', 163)\n"
     ]
    }
   ],
   "source": [
    "# Pegando apenas as entradas e saidas\n",
    "\n",
    "genero = data[1:, 164] # Genero\n",
    "acuracia = data[1:, 165] # Acuracia\n",
    "\n",
    "data = data[1: , 0:163] # Perguntas\n",
    "\n",
    "(nData, nFeatures) = data.shape\n",
    "\n",
    "print('nData: ', nData)\n",
    "print('nFeatures: ', nFeatures)"
   ]
  },
  {
   "cell_type": "code",
   "execution_count": 3,
   "metadata": {},
   "outputs": [
    {
     "ename": "IOError",
     "evalue": "dataset/output_limpo_semINTMAX.csv not found.",
     "output_type": "error",
     "traceback": [
      "\u001b[0;31m---------------------------------------------------------------------------\u001b[0m",
      "\u001b[0;31mIOError\u001b[0m                                   Traceback (most recent call last)",
      "\u001b[0;32m<ipython-input-3-a5dc14657dfb>\u001b[0m in \u001b[0;36m<module>\u001b[0;34m()\u001b[0m\n\u001b[1;32m      2\u001b[0m \u001b[0;34m\u001b[0m\u001b[0m\n\u001b[1;32m      3\u001b[0m \u001b[0;31m# Abrindo o CSV\u001b[0m\u001b[0;34m\u001b[0m\u001b[0;34m\u001b[0m\u001b[0m\n\u001b[0;32m----> 4\u001b[0;31m \u001b[0mdata16\u001b[0m \u001b[0;34m=\u001b[0m \u001b[0mgenfromtxt\u001b[0m\u001b[0;34m(\u001b[0m\u001b[0;34m'dataset/output_limpo_semINTMAX.csv'\u001b[0m\u001b[0;34m,\u001b[0m \u001b[0mdelimiter\u001b[0m\u001b[0;34m=\u001b[0m\u001b[0;34m','\u001b[0m\u001b[0;34m)\u001b[0m\u001b[0;34m\u001b[0m\u001b[0m\n\u001b[0m\u001b[1;32m      5\u001b[0m \u001b[0;32mprint\u001b[0m\u001b[0;34m(\u001b[0m\u001b[0mdata16\u001b[0m\u001b[0;34m)\u001b[0m\u001b[0;34m\u001b[0m\u001b[0m\n\u001b[1;32m      6\u001b[0m \u001b[0;34m\u001b[0m\u001b[0m\n",
      "\u001b[0;32m/Library/Frameworks/Python.framework/Versions/2.7/lib/python2.7/site-packages/numpy/lib/npyio.pyc\u001b[0m in \u001b[0;36mgenfromtxt\u001b[0;34m(fname, dtype, comments, delimiter, skip_header, skip_footer, converters, missing_values, filling_values, usecols, names, excludelist, deletechars, replace_space, autostrip, case_sensitive, defaultfmt, unpack, usemask, loose, invalid_raise, max_rows)\u001b[0m\n\u001b[1;32m   1547\u001b[0m         \u001b[0;32mif\u001b[0m \u001b[0misinstance\u001b[0m\u001b[0;34m(\u001b[0m\u001b[0mfname\u001b[0m\u001b[0;34m,\u001b[0m \u001b[0mbasestring\u001b[0m\u001b[0;34m)\u001b[0m\u001b[0;34m:\u001b[0m\u001b[0;34m\u001b[0m\u001b[0m\n\u001b[1;32m   1548\u001b[0m             \u001b[0;32mif\u001b[0m \u001b[0msys\u001b[0m\u001b[0;34m.\u001b[0m\u001b[0mversion_info\u001b[0m\u001b[0;34m[\u001b[0m\u001b[0;36m0\u001b[0m\u001b[0;34m]\u001b[0m \u001b[0;34m==\u001b[0m \u001b[0;36m2\u001b[0m\u001b[0;34m:\u001b[0m\u001b[0;34m\u001b[0m\u001b[0m\n\u001b[0;32m-> 1549\u001b[0;31m                 \u001b[0mfhd\u001b[0m \u001b[0;34m=\u001b[0m \u001b[0miter\u001b[0m\u001b[0;34m(\u001b[0m\u001b[0mnp\u001b[0m\u001b[0;34m.\u001b[0m\u001b[0mlib\u001b[0m\u001b[0;34m.\u001b[0m\u001b[0m_datasource\u001b[0m\u001b[0;34m.\u001b[0m\u001b[0mopen\u001b[0m\u001b[0;34m(\u001b[0m\u001b[0mfname\u001b[0m\u001b[0;34m,\u001b[0m \u001b[0;34m'rbU'\u001b[0m\u001b[0;34m)\u001b[0m\u001b[0;34m)\u001b[0m\u001b[0;34m\u001b[0m\u001b[0m\n\u001b[0m\u001b[1;32m   1550\u001b[0m             \u001b[0;32melse\u001b[0m\u001b[0;34m:\u001b[0m\u001b[0;34m\u001b[0m\u001b[0m\n\u001b[1;32m   1551\u001b[0m                 \u001b[0mfhd\u001b[0m \u001b[0;34m=\u001b[0m \u001b[0miter\u001b[0m\u001b[0;34m(\u001b[0m\u001b[0mnp\u001b[0m\u001b[0;34m.\u001b[0m\u001b[0mlib\u001b[0m\u001b[0;34m.\u001b[0m\u001b[0m_datasource\u001b[0m\u001b[0;34m.\u001b[0m\u001b[0mopen\u001b[0m\u001b[0;34m(\u001b[0m\u001b[0mfname\u001b[0m\u001b[0;34m,\u001b[0m \u001b[0;34m'rb'\u001b[0m\u001b[0;34m)\u001b[0m\u001b[0;34m)\u001b[0m\u001b[0;34m\u001b[0m\u001b[0m\n",
      "\u001b[0;32m/Library/Frameworks/Python.framework/Versions/2.7/lib/python2.7/site-packages/numpy/lib/_datasource.pyc\u001b[0m in \u001b[0;36mopen\u001b[0;34m(path, mode, destpath)\u001b[0m\n\u001b[1;32m    149\u001b[0m \u001b[0;34m\u001b[0m\u001b[0m\n\u001b[1;32m    150\u001b[0m     \u001b[0mds\u001b[0m \u001b[0;34m=\u001b[0m \u001b[0mDataSource\u001b[0m\u001b[0;34m(\u001b[0m\u001b[0mdestpath\u001b[0m\u001b[0;34m)\u001b[0m\u001b[0;34m\u001b[0m\u001b[0m\n\u001b[0;32m--> 151\u001b[0;31m     \u001b[0;32mreturn\u001b[0m \u001b[0mds\u001b[0m\u001b[0;34m.\u001b[0m\u001b[0mopen\u001b[0m\u001b[0;34m(\u001b[0m\u001b[0mpath\u001b[0m\u001b[0;34m,\u001b[0m \u001b[0mmode\u001b[0m\u001b[0;34m)\u001b[0m\u001b[0;34m\u001b[0m\u001b[0m\n\u001b[0m\u001b[1;32m    152\u001b[0m \u001b[0;34m\u001b[0m\u001b[0m\n\u001b[1;32m    153\u001b[0m \u001b[0;34m\u001b[0m\u001b[0m\n",
      "\u001b[0;32m/Library/Frameworks/Python.framework/Versions/2.7/lib/python2.7/site-packages/numpy/lib/_datasource.pyc\u001b[0m in \u001b[0;36mopen\u001b[0;34m(self, path, mode)\u001b[0m\n\u001b[1;32m    499\u001b[0m             \u001b[0;32mreturn\u001b[0m \u001b[0m_file_openers\u001b[0m\u001b[0;34m[\u001b[0m\u001b[0mext\u001b[0m\u001b[0;34m]\u001b[0m\u001b[0;34m(\u001b[0m\u001b[0mfound\u001b[0m\u001b[0;34m,\u001b[0m \u001b[0mmode\u001b[0m\u001b[0;34m=\u001b[0m\u001b[0mmode\u001b[0m\u001b[0;34m)\u001b[0m\u001b[0;34m\u001b[0m\u001b[0m\n\u001b[1;32m    500\u001b[0m         \u001b[0;32melse\u001b[0m\u001b[0;34m:\u001b[0m\u001b[0;34m\u001b[0m\u001b[0m\n\u001b[0;32m--> 501\u001b[0;31m             \u001b[0;32mraise\u001b[0m \u001b[0mIOError\u001b[0m\u001b[0;34m(\u001b[0m\u001b[0;34m\"%s not found.\"\u001b[0m \u001b[0;34m%\u001b[0m \u001b[0mpath\u001b[0m\u001b[0;34m)\u001b[0m\u001b[0;34m\u001b[0m\u001b[0m\n\u001b[0m\u001b[1;32m    502\u001b[0m \u001b[0;34m\u001b[0m\u001b[0m\n\u001b[1;32m    503\u001b[0m \u001b[0;34m\u001b[0m\u001b[0m\n",
      "\u001b[0;31mIOError\u001b[0m: dataset/output_limpo_semINTMAX.csv not found."
     ]
    }
   ],
   "source": [
    "# Pegando apenas os 16 resultados\n",
    "\n",
    "# Abrindo o CSV\n",
    "data16 = genfromtxt('dataset/output_limpo_semINTMAX.csv', delimiter=',')\n",
    "print(data16)\n",
    "\n",
    "# Sobrescreve as perguntas com os 16 resultados\n",
    "data = data16"
   ]
  },
  {
   "cell_type": "code",
   "execution_count": 4,
   "metadata": {},
   "outputs": [
    {
     "name": "stdout",
     "output_type": "stream",
     "text": [
      "((43706, 163), (43706,))\n",
      "((4857, 163), (4857,))\n"
     ]
    }
   ],
   "source": [
    "# Separando em dados de teste e treino\n",
    "from sklearn.model_selection import train_test_split\n",
    "\n",
    "(dataTrain, dataTest, yTrain, yTest, acuraciaTrain, acuraciaTest) = train_test_split(data, genero, acuracia, test_size = 0.1, shuffle=True)\n",
    "\n",
    "print(dataTrain.shape, yTrain.shape)\n",
    "print(dataTest.shape, yTest.shape)"
   ]
  },
  {
   "cell_type": "code",
   "execution_count": 5,
   "metadata": {},
   "outputs": [
    {
     "name": "stdout",
     "output_type": "stream",
     "text": [
      "((43706, 118), (4857, 118))\n"
     ]
    }
   ],
   "source": [
    "# PCA\n",
    "from sklearn.decomposition import PCA\n",
    "\n",
    "pca = PCA(n_components=0.9, svd_solver='full')\n",
    "pca.fit(dataTrain)\n",
    "dataTrain = pca.transform(dataTrain)\n",
    "dataTest = pca.transform(dataTest)\n",
    "\n",
    "print(dataTrain.shape, dataTest.shape)"
   ]
  },
  {
   "cell_type": "code",
   "execution_count": 6,
   "metadata": {
    "scrolled": true
   },
   "outputs": [
    {
     "name": "stdout",
     "output_type": "stream",
     "text": [
      "convergence after 31 epochs took 5 seconds\n",
      "('Train: ', 0.79201940237038393)\n",
      "('Test:  ', 0.79761169446160185)\n"
     ]
    },
    {
     "name": "stderr",
     "output_type": "stream",
     "text": [
      "[Parallel(n_jobs=-1)]: Done   1 out of   1 | elapsed:    5.2s finished\n"
     ]
    }
   ],
   "source": [
    "# Regressão Logistica\n",
    "from sklearn.linear_model import LogisticRegression\n",
    "\n",
    "md = LogisticRegression(\n",
    "            penalty='l2',\n",
    "            dual=False,\n",
    "            tol=1e-4,\n",
    "            C=1.0,\n",
    "            fit_intercept=True,\n",
    "            intercept_scaling=1,\n",
    "            class_weight=None,\n",
    "            random_state=None,\n",
    "            solver='saga',\n",
    "            max_iter=10000,\n",
    "            multi_class='multinomial',\n",
    "            verbose=1,\n",
    "            warm_start=False,\n",
    "            n_jobs=-1    \n",
    "        )\n",
    "\n",
    "md.fit(dataTrain, yTrain)\n",
    "print('Train: ', md.score(dataTrain, yTrain))\n",
    "print('Test:  ', md.score(dataTest, yTest))"
   ]
  },
  {
   "cell_type": "code",
   "execution_count": null,
   "metadata": {},
   "outputs": [
    {
     "name": "stdout",
     "output_type": "stream",
     "text": [
      "[LibLinear]"
     ]
    }
   ],
   "source": [
    "# Linear SVC\n",
    "from sklearn.svm import LinearSVC\n",
    "\n",
    "md = LinearSVC(\n",
    "            penalty='l2',\n",
    "            loss='squared_hinge',\n",
    "            dual=True,\n",
    "            tol=1e-4,\n",
    "            C=1.0,\n",
    "            multi_class='ovr',\n",
    "            fit_intercept=True,\n",
    "            intercept_scaling=1,\n",
    "            verbose=1,\n",
    "            random_state=None,\n",
    "            max_iter=100000\n",
    "        )\n",
    "\n",
    "md.fit(dataTrain, yTrain)\n",
    "print('Train: ', md.score(dataTrain, yTrain))\n",
    "print('Test: ', md.score(dataTest, yTest))"
   ]
  },
  {
   "cell_type": "code",
   "execution_count": null,
   "metadata": {},
   "outputs": [],
   "source": [
    "# Cria uma rede neural\n",
    "from sklearn.neural_network import MLPClassifier\n",
    "\n",
    "md = MLPClassifier(\n",
    "            hidden_layer_sizes = (100),\n",
    "#             activation = 'identity',\n",
    "#             solver = 'sgd',\n",
    "            alpha = 1e-6,\n",
    "#             batch_size = 'auto',\n",
    "            learning_rate = 'adaptive',\n",
    "#             learning_rate_init = 0.001,\n",
    "#             power_t = 0.5,\n",
    "#             max_iter = 10000,\n",
    "#             shuffle = True,\n",
    "#             random_state = None,\n",
    "#             tol = 1e-4,\n",
    "            verbose = True,\n",
    "#             warm_start = False,\n",
    "#             momentum = 0.9,\n",
    "#             nesterovs_momentum = True,\n",
    "#             early_stopping = False,\n",
    "#             validation_fraction = 0.15    \n",
    "        )\n",
    "\n",
    "md.fit(dataTrain, yTrain)\n",
    "print('Train: ', md.score(dataTrain, yTrain))\n",
    "print('Test:  ', md.score(dataTest, yTest))"
   ]
  },
  {
   "cell_type": "code",
   "execution_count": null,
   "metadata": {},
   "outputs": [],
   "source": [
    "# Separa as entradas de gênero com predições corretas em diferentes arquivos\n",
    "\n",
    "# Predizemos nossos dados\n",
    "yPred = md.predict(dataTest)\n",
    "\n",
    "(nDataTest, nFeaturesTest) = dataTest.shape\n",
    "\n",
    "# Para generos 1 e 2\n",
    "for idd in range(1, 3):\n",
    "    # Criamos uma matriz\n",
    "    dados_copia = numpy.zeros(dataTest.shape)\n",
    "    \n",
    "    # Indices\n",
    "    i=0\n",
    "    j=dataTest.shape[0]-1\n",
    "    p=0\n",
    "    \n",
    "    # Preenchemos a matriz de tal forma que os dados com predição correta fiquem no começo, e os dados com predição errada fiquem no final\n",
    "    while (i<=j):\n",
    "        if (int(yPred[p]) == idd):\n",
    "            dados_copia[i] = dataTest[p]\n",
    "            i = i+1\n",
    "        else:\n",
    "            dados_copia[j] = dataTest[p]\n",
    "        j = j-1\n",
    "\n",
    "        p = p+1\n",
    "\n",
    "    # Pegamos apenas os dados que foram preditos corretamente\n",
    "    dados_copia = dados_copia[0:i][:]\n",
    "\n",
    "\n",
    "    # Salva tais dados em um arquivo CSV\n",
    "    numpy.savetxt('generos/'+str(igual)+'.csv', dados_copia, delimiter=',')"
   ]
  },
  {
   "cell_type": "code",
   "execution_count": null,
   "metadata": {},
   "outputs": [],
   "source": [
    "# Matriz de confusão\n",
    "\n",
    "from sklearn.metrics import confusion_matrix\n",
    "import matplotlib.pyplot as plt\n",
    "import itertools\n",
    "\n",
    "# Primeiro, os dados tem os valores de cada tem: yTest\n",
    "# Agora vou montar meu vetor de predições: yPredict\n",
    "\n",
    "yPred = md.predict(dataTest)\n",
    "classes = ['Masc', 'Fem']\n",
    "\n",
    "matrix = confusion_matrix(yTest, yPred)\n",
    "\n",
    "def plot_confusion_matrix(cm, classes, normalize=True, title='Confusion matrix', cmap=plt.cm.Blues):\n",
    "    if normalize:\n",
    "        cm = cm.astype('float') / cm.sum(axis=1)[:, numpy.newaxis]\n",
    "        print(\"Normalized confusion matrix\")\n",
    "    else:\n",
    "        print('Confusion matrix, without normalization')\n",
    "\n",
    "    print(cm)\n",
    "\n",
    "    plt.imshow(cm, interpolation='nearest', cmap=cmap)\n",
    "    plt.title(title)\n",
    "    plt.colorbar()\n",
    "    tick_marks = numpy.arange(len(classes))\n",
    "    plt.xticks(tick_marks, classes, rotation=45)\n",
    "    plt.yticks(tick_marks, classes)\n",
    "\n",
    "    fmt = '.2f' if normalize else 'd'\n",
    "    thresh = cm.max() / 2.\n",
    "    for i, j in itertools.product(range(cm.shape[0]), range(cm.shape[1])):\n",
    "        plt.text(j, i, format(cm[i, j], fmt),\n",
    "                 horizontalalignment=\"center\",\n",
    "                 color=\"white\" if cm[i, j] > thresh else \"black\")\n",
    "\n",
    "    plt.tight_layout()\n",
    "    plt.ylabel('True label')\n",
    "    plt.xlabel('Predicted label')\n",
    "\n",
    "    \n",
    "# Plot non-normalized confusion matrix\n",
    "plt.figure()\n",
    "plot_confusion_matrix(matrix,classes=classes, title='Confusion matrix, without normalization')\n",
    "\n"
   ]
  }
 ],
 "metadata": {
  "kernelspec": {
   "display_name": "Python 2",
   "language": "python",
   "name": "python2"
  },
  "language_info": {
   "codemirror_mode": {
    "name": "ipython",
    "version": 2
   },
   "file_extension": ".py",
   "mimetype": "text/x-python",
   "name": "python",
   "nbconvert_exporter": "python",
   "pygments_lexer": "ipython2",
   "version": "2.7.13"
  }
 },
 "nbformat": 4,
 "nbformat_minor": 2
}
